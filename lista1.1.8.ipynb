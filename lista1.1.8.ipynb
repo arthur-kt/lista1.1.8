{
 "cells": [
  {
   "cell_type": "markdown",
   "id": "2e18511b",
   "metadata": {},
   "source": [
    "### 8. Resolva a equação linear a.x = b\n"
   ]
  },
  {
   "cell_type": "code",
   "execution_count": 13,
   "id": "e9d9e75b",
   "metadata": {},
   "outputs": [],
   "source": [
    "# Atribuição de variáveis\n",
    "\n",
    "a = 0\n",
    "x = 0"
   ]
  },
  {
   "cell_type": "code",
   "execution_count": 14,
   "id": "47b3dcb8",
   "metadata": {},
   "outputs": [
    {
     "name": "stdout",
     "output_type": "stream",
     "text": [
      "a: 2\n",
      "x: 5\n"
     ]
    }
   ],
   "source": [
    "# Entrada de dados\n",
    "\n",
    "a = float(input(\"a: \"))\n",
    "x = float(input(\"x: \"))"
   ]
  },
  {
   "cell_type": "code",
   "execution_count": 15,
   "id": "61777c0a",
   "metadata": {},
   "outputs": [],
   "source": [
    "# Processamento de dados\n",
    "\n",
    "b = a*x"
   ]
  },
  {
   "cell_type": "code",
   "execution_count": 16,
   "id": "afff63b8",
   "metadata": {},
   "outputs": [
    {
     "name": "stdout",
     "output_type": "stream",
     "text": [
      "Quando a for igual \"a\" 2.0 e \"x\" for igual a 5.0, \"b\" será igual a 10.0\n"
     ]
    }
   ],
   "source": [
    "# Saída de dados\n",
    "\n",
    "print(f'Quando a for igual \"a\" {a} e \"x\" for igual a {x}, \"b\" será igual a {b}')"
   ]
  },
  {
   "cell_type": "code",
   "execution_count": null,
   "id": "c3331736",
   "metadata": {},
   "outputs": [],
   "source": []
  }
 ],
 "metadata": {
  "kernelspec": {
   "display_name": "Python 3 (ipykernel)",
   "language": "python",
   "name": "python3"
  },
  "language_info": {
   "codemirror_mode": {
    "name": "ipython",
    "version": 3
   },
   "file_extension": ".py",
   "mimetype": "text/x-python",
   "name": "python",
   "nbconvert_exporter": "python",
   "pygments_lexer": "ipython3",
   "version": "3.10.9"
  }
 },
 "nbformat": 4,
 "nbformat_minor": 5
}
